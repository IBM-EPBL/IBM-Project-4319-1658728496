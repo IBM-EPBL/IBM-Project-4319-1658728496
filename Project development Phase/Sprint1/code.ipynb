{
  "nbformat": 4,
  "nbformat_minor": 0,
  "metadata": {
    "colab": {
      "provenance": []
    },
    "kernelspec": {
      "name": "python3",
      "display_name": "Python 3"
    },
    "language_info": {
      "name": "python"
    }
  },
  "cells": [
    {
      "cell_type": "markdown",
      "source": [
        "importing libraries"
      ],
      "metadata": {
        "id": "EYXCtD_otEQV"
      }
    },
    {
      "cell_type": "code",
      "source": [
        "import numpy as np\n",
        "import pandas as pd\n",
        "import seaborn as sns\n",
        "import matplotlib.pyplot as plt\n",
        "import warnings"
      ],
      "metadata": {
        "id": "qBG6MsR-tPcd"
      },
      "execution_count": null,
      "outputs": []
    },
    {
      "cell_type": "code",
      "source": [
        "df = pd.read_csv('water_dataX.csv',encoding='ISO-8859-1',low_memory=False)"
      ],
      "metadata": {
        "id": "JEC7ElwqtPuw"
      },
      "execution_count": null,
      "outputs": []
    },
    {
      "cell_type": "code",
      "source": [
        "df.head()"
      ],
      "metadata": {
        "id": "C7DBsbmvtXqa"
      },
      "execution_count": null,
      "outputs": []
    },
    {
      "cell_type": "code",
      "source": [
        "STATION CODE\tLOCATIONS\tSTATE\tTemp\tD.O. (mg/l)\tPH\tCONDUCTIVITY (µmhos/cm)\tB.O.D. (mg/l)\tNITRATENAN N+ NITRITENANN (mg/l)\tFECAL COLIFORM (MPN/100ml)\tTOTAL COLIFORM (MPN/100ml)Mean\tyear\n",
        "0\t1393\tDAMANGANGA AT D/S OF MADHUBAN, DAMAN\tDAMAN & DIU\t30.6\t6.7\t7.5\t203\tNAN\t0.1\t11\t27\t2014\n",
        "1\t1399\tZUARI AT D/S OF PT. WHERE KUMBARJRIA CANAL JOI...\tGOA\t29.8\t5.7\t7.2\t189\t2\t0.2\t4953\t8391\t2014\n",
        "2\t1475\tZUARI AT PANCHAWADI\tGOA\t29.5\t6.3\t6.9\t179\t1.7\t0.1\t3243\t5330\t2014\n",
        "3\t3181\tRIVER ZUARI AT BORIM BRIDGE\tGOA\t29.7\t5.8\t6.9\t64\t3.8\t0.5\t5382\t8443\t2014\n",
        "4\t3182\tRIVER ZUARI AT MARCAIM JETTY\tGOA\t29.5\t5.8\t7.3\t83\t1.9\t0.4\t3428\t5500\t2014"
      ],
      "metadata": {
        "id": "uA9anSZmtgNp"
      },
      "execution_count": null,
      "outputs": []
    },
    {
      "cell_type": "markdown",
      "source": [
        "Analysing the dataset"
      ],
      "metadata": {
        "id": "fCyFWdC3tmaN"
      }
    },
    {
      "cell_type": "code",
      "source": [
        "df.describe()"
      ],
      "metadata": {
        "id": "gfmeJWZetowI"
      },
      "execution_count": null,
      "outputs": []
    },
    {
      "cell_type": "code",
      "source": [
        "year\n",
        "count\t1991.000000\n",
        "mean\t2010.038172\n",
        "std\t3.057333\n",
        "min\t2003.000000\n",
        "25%\t2008.000000\n",
        "50%\t2011.000000\n",
        "75%\t2013.000000\n",
        "max\t2014.000000"
      ],
      "metadata": {
        "id": "uNqLY616tsNb"
      },
      "execution_count": null,
      "outputs": []
    },
    {
      "cell_type": "code",
      "source": [
        "df.info()"
      ],
      "metadata": {
        "id": "oraUi_6Otz0A"
      },
      "execution_count": null,
      "outputs": []
    },
    {
      "cell_type": "code",
      "source": [
        "RangeIndex: 1991 entries, 0 to 1990\n",
        "Data columns (total 12 columns):\n",
        " #   Column                            Non-Null Count  Dtype \n",
        "---  ------                            --------------  ----- \n",
        " 0   STATION CODE                      1991 non-null   object\n",
        " 1   LOCATIONS                         1991 non-null   object\n",
        " 2   STATE                             1991 non-null   object\n",
        " 3   Temp                              1991 non-null   object\n",
        " 4   D.O. (mg/l)                       1991 non-null   object\n",
        " 5   PH                                1991 non-null   object\n",
        " 6   CONDUCTIVITY (µmhos/cm)           1991 non-null   object\n",
        " 7   B.O.D. (mg/l)                     1991 non-null   object\n",
        " 8   NITRATENAN N+ NITRITENANN (mg/l)  1991 non-null   object\n",
        " 9   FECAL COLIFORM (MPN/100ml)        1991 non-null   object\n",
        " 10  TOTAL COLIFORM (MPN/100ml)Mean    1991 non-null   object\n",
        " 11  year                              1991 non-null   int64 \n",
        "dtypes: int64(1), object(11)\n",
        "memory usage: 186.8+ KB"
      ],
      "metadata": {
        "id": "aukmKNrxt0BQ"
      },
      "execution_count": null,
      "outputs": []
    },
    {
      "cell_type": "code",
      "source": [
        "df.shape"
      ],
      "metadata": {
        "id": "dQmGu_4wt8Gh"
      },
      "execution_count": null,
      "outputs": []
    },
    {
      "cell_type": "code",
      "source": [
        "(1991, 12)"
      ],
      "metadata": {
        "id": "zH14waqlt9bZ"
      },
      "execution_count": null,
      "outputs": []
    },
    {
      "cell_type": "markdown",
      "source": [
        "Managing the null values"
      ],
      "metadata": {
        "id": "Qc0H8wbXuEQi"
      }
    },
    {
      "cell_type": "code",
      "source": [
        "df.isnull().any()"
      ],
      "metadata": {
        "id": "vC5Fv03-uFyh"
      },
      "execution_count": null,
      "outputs": []
    },
    {
      "cell_type": "code",
      "source": [
        "STATION CODE                        False\n",
        "LOCATIONS                           False\n",
        "STATE                               False\n",
        "Temp                                False\n",
        "D.O. (mg/l)                         False\n",
        "PH                                  False\n",
        "CONDUCTIVITY (µmhos/cm)             False\n",
        "B.O.D. (mg/l)                       False\n",
        "NITRATENAN N+ NITRITENANN (mg/l)    False\n",
        "FECAL COLIFORM (MPN/100ml)          False\n",
        "TOTAL COLIFORM (MPN/100ml)Mean      False\n",
        "year                                False\n",
        "dtype: bool"
      ],
      "metadata": {
        "id": "xUwTy0z_uJCN"
      },
      "execution_count": null,
      "outputs": []
    },
    {
      "cell_type": "code",
      "source": [
        "df.isnull().sum()"
      ],
      "metadata": {
        "id": "fABqM3WouQiI"
      },
      "execution_count": null,
      "outputs": []
    },
    {
      "cell_type": "code",
      "source": [
        "STATION CODE                        0\n",
        "LOCATIONS                           0\n",
        "STATE                               0\n",
        "Temp                                0\n",
        "D.O. (mg/l)                         0\n",
        "PH                                  0\n",
        "CONDUCTIVITY (µmhos/cm)             0\n",
        "B.O.D. (mg/l)                       0\n",
        "NITRATENAN N+ NITRITENANN (mg/l)    0\n",
        "FECAL COLIFORM (MPN/100ml)          0\n",
        "TOTAL COLIFORM (MPN/100ml)Mean      0\n",
        "year                                0\n",
        "dtype: int64"
      ],
      "metadata": {
        "id": "BOfU67S9uTzJ"
      },
      "execution_count": null,
      "outputs": []
    },
    {
      "cell_type": "code",
      "source": [
        "df.dtypes"
      ],
      "metadata": {
        "id": "ZfzHT-jauT5d"
      },
      "execution_count": null,
      "outputs": []
    },
    {
      "cell_type": "code",
      "source": [
        "STATION CODE                        object\n",
        "LOCATIONS                           object\n",
        "STATE                               object\n",
        "Temp                                object\n",
        "D.O. (mg/l)                         object\n",
        "PH                                  object\n",
        "CONDUCTIVITY (µmhos/cm)             object\n",
        "B.O.D. (mg/l)                       object\n",
        "NITRATENAN N+ NITRITENANN (mg/l)    object\n",
        "FECAL COLIFORM (MPN/100ml)          object\n",
        "TOTAL COLIFORM (MPN/100ml)Mean      object\n",
        "year                                 int64\n"
      ],
      "metadata": {
        "id": "qhS87gc-uT_G"
      },
      "execution_count": null,
      "outputs": []
    },
    {
      "cell_type": "code",
      "source": [
        "df['Temp']=pd.to_numeric(df['Temp'],errors='coerce')\n",
        "df['D.O. (mg/l)']=pd.to_numeric(df['D.O. (mg/l)'],errors='coerce')\n",
        "df['PH']=pd.to_numeric(df['PH'],errors='coerce')\n",
        "df['B.O.D. (mg/l)']=pd.to_numeric(df['B.O.D. (mg/l)'],errors='coerce')\n",
        "df['CONDUCTIVITY (µmhos/cm)']=pd.to_numeric(df['CONDUCTIVITY (µmhos/cm)'],errors='coerce')\n",
        "df['NITRATENAN N+ NITRITENANN (mg/l)']=pd.to_numeric(df['NITRATENAN N+ NITRITENANN (mg/l)'],errors='coerce')\n",
        "df['TOTAL COLIFORM (MPN/100ml)Mean']=pd.to_numeric(df['TOTAL COLIFORM (MPN/100ml)Mean'],errors='coerce')\n",
        "df.dtypes"
      ],
      "metadata": {
        "id": "u_LZxW3vuk_p"
      },
      "execution_count": null,
      "outputs": []
    },
    {
      "cell_type": "code",
      "source": [
        "STATION CODE                         object\n",
        "LOCATIONS                            object\n",
        "STATE                                object\n",
        "Temp                                float64\n",
        "D.O. (mg/l)                         float64\n",
        "PH                                  float64\n",
        "CONDUCTIVITY (µmhos/cm)             float64\n",
        "B.O.D. (mg/l)                       float64\n",
        "NITRATENAN N+ NITRITENANN (mg/l)    float64\n",
        "FECAL COLIFORM (MPN/100ml)           object\n",
        "TOTAL COLIFORM (MPN/100ml)Mean      float64\n",
        "year                                  int64\n",
        "dtype: object"
      ],
      "metadata": {
        "id": "vaO7yJ_7uUEX"
      },
      "execution_count": null,
      "outputs": []
    },
    {
      "cell_type": "code",
      "source": [
        "df.isnull().sum()"
      ],
      "metadata": {
        "id": "5h0zMzLWt0Oo"
      },
      "execution_count": null,
      "outputs": []
    },
    {
      "cell_type": "code",
      "source": [
        "STATION CODE                          0\n",
        "LOCATIONS                             0\n",
        "STATE                                 0\n",
        "Temp                                 92\n",
        "D.O. (mg/l)                          31\n",
        "PH                                    8\n",
        "CONDUCTIVITY (µmhos/cm)              25\n",
        "B.O.D. (mg/l)                        43\n",
        "NITRATENAN N+ NITRITENANN (mg/l)    225\n",
        "FECAL COLIFORM (MPN/100ml)            0\n",
        "TOTAL COLIFORM (MPN/100ml)Mean      132\n",
        "year                                  0\n",
        "dtype: int64"
      ],
      "metadata": {
        "id": "fgft_Y4Ft0bW"
      },
      "execution_count": null,
      "outputs": []
    },
    {
      "cell_type": "markdown",
      "source": [
        "Filling the null values"
      ],
      "metadata": {
        "id": "kDWFCszcu5NM"
      }
    },
    {
      "cell_type": "code",
      "source": [
        "df['Temp'].fillna(df['Temp'].mean(),inplace=True)\n",
        "df['D.O. (mg/l)'].fillna(df['D.O. (mg/l)'].mean(),inplace=True)\n",
        "df['PH'].fillna(df['PH'].mean(),inplace=True)\n",
        "df['CONDUCTIVITY (µmhos/cm)'].fillna(df['CONDUCTIVITY (µmhos/cm)'].mean(),inplace=True)\n",
        "df['B.O.D. (mg/l)'].fillna(df['B.O.D. (mg/l)'].mean(),inplace=True)\n",
        "df['NITRATENAN N+ NITRITENANN (mg/l)'].fillna(df['NITRATENAN N+ NITRITENANN (mg/l)'].mean(),inplace=True)\n",
        "df['TOTAL COLIFORM (MPN/100ml)Mean'].fillna(df['TOTAL COLIFORM (MPN/100ml)Mean'].mean(),inplace=True)"
      ],
      "metadata": {
        "id": "hWyoeTH5u6lP"
      },
      "execution_count": null,
      "outputs": []
    },
    {
      "cell_type": "code",
      "source": [
        "df.drop([\"FECAL COLIFORM (MPN/100ml)\"],axis=1,inplace=True)"
      ],
      "metadata": {
        "id": "aINDHZKtu_B9"
      },
      "execution_count": null,
      "outputs": []
    },
    {
      "cell_type": "code",
      "source": [
        "df=df.rename(columns = {'D.O. (mg/l)': 'do'})\n",
        "df=df.rename(columns = {'CONDUCTIVITY (µmhos/cm)': 'co'})\n",
        "df=df.rename(columns = {'B.O.D. (mg/l)': 'bod'})\n",
        "df=df.rename(columns = {'NITRATENAN N+ NITRITENANN (mg/l)': 'na'})\n",
        "df=df.rename(columns = {'TOTAL COLIFORM (MPN/100ml)Mean': 'tc'})\n",
        "df=df.rename(columns = {'STATION CODE': 'station'})\n",
        "df=df.rename(columns = {'LOCATIONS': 'location'})\n",
        "df=df.rename(columns = {'STATE': 'state'})\n",
        "df=df.rename(columns = {'PH': 'ph'})"
      ],
      "metadata": {
        "id": "Pgrsdx7QvFvq"
      },
      "execution_count": null,
      "outputs": []
    }
  ]
}