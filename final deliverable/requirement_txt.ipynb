{
  "nbformat": 4,
  "nbformat_minor": 0,
  "metadata": {
    "colab": {
      "provenance": []
    },
    "kernelspec": {
      "name": "python3",
      "display_name": "Python 3"
    },
    "language_info": {
      "name": "python"
    }
  },
  "cells": [
    {
      "cell_type": "code",
      "execution_count": null,
      "metadata": {
        "id": "fRJsWxm3e95m"
      },
      "outputs": [],
      "source": [
        "Flask    ==   2.2.2\n",
        "joblib    ==   1.2.0\n",
        "numpy    ==  1.23.4\n",
        "pandas    ==  1.5.1\n",
        "scikit-learn    ==  1.1.3\n",
        "xgboost            == 1.7.1\n",
        "gunicorn          == 20.1.0\n",
        "matplotlib        == 3.6.2\n",
        "seaborn             == 0.12.1\n",
        "gevent\n",
        "requests\n",
        "flask-cors==3.0.10"
      ]
    }
  ]
}