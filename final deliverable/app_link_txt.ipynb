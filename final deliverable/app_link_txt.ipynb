{
  "nbformat": 4,
  "nbformat_minor": 0,
  "metadata": {
    "colab": {
      "provenance": []
    },
    "kernelspec": {
      "name": "python3",
      "display_name": "Python 3"
    },
    "language_info": {
      "name": "python"
    }
  },
  "cells": [
    {
      "cell_type": "code",
      "execution_count": null,
      "metadata": {
        "id": "xc9YGpI_ec2_"
      },
      "outputs": [],
      "source": [
        "https://water-quality-prediction---pnt2022tmid21875.au-syd.mybluemix.net/\n",
        "https://water-quality--prediction---pnt2022tmid21875.au-syd.mybluemix.net/?_ga=2.249112654.85825560.1668174141-1922678140.1666107719"
      ]
    }
  ]
}