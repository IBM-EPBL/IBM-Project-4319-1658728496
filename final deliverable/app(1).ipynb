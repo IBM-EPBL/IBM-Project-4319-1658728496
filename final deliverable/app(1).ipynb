{
  "nbformat": 4,
  "nbformat_minor": 0,
  "metadata": {
    "colab": {
      "provenance": []
    },
    "kernelspec": {
      "name": "python3",
      "display_name": "Python 3"
    },
    "language_info": {
      "name": "python"
    }
  },
  "cells": [
    {
      "cell_type": "code",
      "execution_count": null,
      "metadata": {
        "id": "ul_CzhPOdqpL"
      },
      "outputs": [],
      "source": [
        "from flask import Flask, request, render_template\n",
        "import pickle\n",
        "import pandas as pd\n",
        "import numpy as np\n",
        "import joblib\n",
        "scaler = joblib.load(\"my_scaler.save\")\n",
        "\n",
        "\n",
        "app = Flask(__name__)\n",
        "model = pickle.load(open('model.pkl', 'rb'))\n",
        "\n",
        "@app.route(\"/home\")\n",
        "@app.route(\"/\")\n",
        "def hello():\n",
        "    return render_template(\"home.html\")\n",
        "\n",
        "@app.route(\"/predict\", methods = [\"GET\", \"POST\"])\n",
        "def predict():\n",
        "    if request.method == \"POST\":\n",
        "        input_features = [float(x) for x in request.form.values()]\n",
        "        features_value = [np.array(input_features)]\n",
        "\n",
        "        feature_names = [\"ph\", \"Hardness\" , \"Solids\", \"Chloramines\", \"Sulfate\",\n",
        "                         \"Conductivity\", \"Organic_carbon\",\"Trihalomethanes\", \"Turbidity\"]\n",
        "\n",
        "        df = pd.DataFrame(features_value, columns = feature_names)\n",
        "        df = scaler.transform(df)\n",
        "        output = model.predict(df)\n",
        "\n",
        "        if output[0] == 1:           \n",
        "            prediction = \"safe\"\n",
        "        else:\n",
        "            prediction = \"not safe\"\n",
        "\n",
        "\n",
        "        return render_template('home.html', prediction_text= \"water is {} for human consumption \".format(prediction))\n",
        "\n",
        "        \n",
        "\n",
        "if __name__ == \"__main__\":\n",
        "    app.run(debug=True)\n"
      ]
    }
  ]
}