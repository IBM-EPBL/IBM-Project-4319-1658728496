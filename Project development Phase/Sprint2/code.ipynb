{
  "nbformat": 4,
  "nbformat_minor": 0,
  "metadata": {
    "colab": {
      "provenance": []
    },
    "kernelspec": {
      "name": "python3",
      "display_name": "Python 3"
    },
    "language_info": {
      "name": "python"
    }
  },
  "cells": [
    {
      "cell_type": "markdown",
      "source": [
        "Importing libraries"
      ],
      "metadata": {
        "id": "rGchXSY5RiZd"
      }
    },
    {
      "cell_type": "code",
      "source": [
        "import numpy as np\n",
        "import pandas as pd\n",
        "import seaborn as sns\n",
        "import matplotlib.pyplot as plt\n",
        "import warnings"
      ],
      "metadata": {
        "id": "egZ3EqtSRmts"
      },
      "execution_count": null,
      "outputs": []
    },
    {
      "cell_type": "markdown",
      "source": [
        "Reading Dataset"
      ],
      "metadata": {
        "id": "-lRx4WE8RpTD"
      }
    },
    {
      "cell_type": "code",
      "source": [
        "data = pd.read_csv('water_dataX.csv',encoding='ISO-8859-1',low_memory=False)"
      ],
      "metadata": {
        "id": "Do5L_IDbRsB3"
      },
      "execution_count": null,
      "outputs": []
    },
    {
      "cell_type": "markdown",
      "source": [
        "Analyse the data"
      ],
      "metadata": {
        "id": "caoCtwhyRu9W"
      }
    },
    {
      "cell_type": "code",
      "source": [
        "data.head()"
      ],
      "metadata": {
        "id": "iTI1K_JdRzxp"
      },
      "execution_count": null,
      "outputs": []
    },
    {
      "cell_type": "code",
      "source": [
        "STATION CODE\tLOCATIONS\tSTATE\tTemp\tD.O. (mg/l)\tPH\tCONDUCTIVITY (µmhos/cm)\tB.O.D. (mg/l)\tNITRATENAN N+ NITRITENANN (mg/l)\tFECAL COLIFORM (MPN/100ml)\tTOTAL COLIFORM (MPN/100ml)Mean\tyear\n",
        "0\t1393\tDAMANGANGA AT D/S OF MADHUBAN, DAMAN\tDAMAN & DIU\t30.6\t6.7\t7.5\t203\tNAN\t0.1\t11\t27\t2014\n",
        "1\t1399\tZUARI AT D/S OF PT. WHERE KUMBARJRIA CANAL JOI...\tGOA\t29.8\t5.7\t7.2\t189\t2\t0.2\t4953\t8391\t2014\n",
        "2\t1475\tZUARI AT PANCHAWADI\tGOA\t29.5\t6.3\t6.9\t179\t1.7\t0.1\t3243\t5330\t2014\n",
        "3\t3181\tRIVER ZUARI AT BORIM BRIDGE\tGOA\t29.7\t5.8\t6.9\t64\t3.8\t0.5\t5382\t8443\t2014\n",
        "4\t3182\tRIVER ZUARI AT MARCAIM JETTY\tGOA\t29.5\t5.8\t7.3\t83\t1.9\t0.4\t3428\t5500\t2"
      ],
      "metadata": {
        "id": "vRqFvi_mR7OH"
      },
      "execution_count": null,
      "outputs": []
    },
    {
      "cell_type": "code",
      "source": [
        "data.describe()"
      ],
      "metadata": {
        "id": "c9Ptc0COR9eG"
      },
      "execution_count": null,
      "outputs": []
    },
    {
      "cell_type": "code",
      "source": [
        "year\n",
        "count\t1991.000000\n",
        "mean\t2010.038172\n",
        "std\t3.057333\n",
        "min\t2003.000000\n",
        "25%\t2008.000000\n",
        "50%\t2011.000000\n",
        "75%\t2013.000000\n",
        "max\t2014.000000"
      ],
      "metadata": {
        "id": "VNSZM6SeR9pR"
      },
      "execution_count": null,
      "outputs": []
    },
    {
      "cell_type": "code",
      "source": [
        "data.info()"
      ],
      "metadata": {
        "id": "g1Z_vIxGSESD"
      },
      "execution_count": null,
      "outputs": []
    },
    {
      "cell_type": "code",
      "source": [
        "RangeIndex: 1991 entries, 0 to 1990\n",
        "Data columns (total 12 columns):\n",
        " #   Column                            Non-Null Count  Dtype \n",
        "---  ------                            --------------  ----- \n",
        " 0   STATION CODE                      1991 non-null   object\n",
        " 1   LOCATIONS                         1991 non-null   object\n",
        " 2   STATE                             1991 non-null   object\n",
        " 3   Temp                              1991 non-null   object\n",
        " 4   D.O. (mg/l)                       1991 non-null   object\n",
        " 5   PH                                1991 non-null   object\n",
        " 6   CONDUCTIVITY (µmhos/cm)           1991 non-null   object\n",
        " 7   B.O.D. (mg/l)                     1991 non-null   object\n",
        " 8   NITRATENAN N+ NITRITENANN (mg/l)  1991 non-null   object\n",
        " 9   FECAL COLIFORM (MPN/100ml)        1991 non-null   object\n",
        " 10  TOTAL COLIFORM (MPN/100ml)Mean    1991 non-null   object\n",
        " 11  year                              1991 non-null   int64 \n",
        "dtypes: int64(1), object(11)\n",
        "memory usage: 186.8+ KB"
      ],
      "metadata": {
        "id": "0ZJlwd_tSEZC"
      },
      "execution_count": null,
      "outputs": []
    },
    {
      "cell_type": "code",
      "source": [
        "data.shape"
      ],
      "metadata": {
        "id": "KQbzWSAbSEd-"
      },
      "execution_count": null,
      "outputs": []
    },
    {
      "cell_type": "code",
      "source": [
        "(1991, 12)"
      ],
      "metadata": {
        "id": "PU2yGcY_SPAr"
      },
      "execution_count": null,
      "outputs": []
    },
    {
      "cell_type": "markdown",
      "source": [],
      "metadata": {
        "id": "CbiMMDBhSQCf"
      }
    },
    {
      "cell_type": "code",
      "source": [
        "Handling Missing Values"
      ],
      "metadata": {
        "id": "OxxyLRRCSQiG"
      },
      "execution_count": null,
      "outputs": []
    },
    {
      "cell_type": "code",
      "source": [
        "data.isnull().any()"
      ],
      "metadata": {
        "id": "NhEBX735SQmv"
      },
      "execution_count": null,
      "outputs": []
    },
    {
      "cell_type": "code",
      "source": [
        "STATION CODE                        False\n",
        "LOCATIONS                           False\n",
        "STATE                               False\n",
        "Temp                                False\n",
        "D.O. (mg/l)                         False\n",
        "PH                                  False\n",
        "CONDUCTIVITY (µmhos/cm)             False\n",
        "B.O.D. (mg/l)                       False\n",
        "NITRATENAN N+ NITRITENANN (mg/l)    False\n",
        "FECAL COLIFORM (MPN/100ml)          False\n",
        "TOTAL COLIFORM (MPN/100ml)Mean      False\n",
        "year                                False\n",
        "dtype: bool"
      ],
      "metadata": {
        "id": "A0lR9v8ZSQqp"
      },
      "execution_count": null,
      "outputs": []
    },
    {
      "cell_type": "code",
      "source": [
        "data.isnull().sum()"
      ],
      "metadata": {
        "id": "8FObyVmTSQut"
      },
      "execution_count": null,
      "outputs": []
    },
    {
      "cell_type": "code",
      "source": [
        "STATION CODE                        0\n",
        "LOCATIONS                           0\n",
        "STATE                               0\n",
        "Temp                                0\n",
        "D.O. (mg/l)                         0\n",
        "PH                                  0\n",
        "CONDUCTIVITY (µmhos/cm)             0\n",
        "B.O.D. (mg/l)                       0\n",
        "NITRATENAN N+ NITRITENANN (mg/l)    0\n",
        "FECAL COLIFORM (MPN/100ml)          0\n",
        "TOTAL COLIFORM (MPN/100ml)Mean      0\n",
        "year                                0\n",
        "dtype: int64"
      ],
      "metadata": {
        "id": "ZE6vd9BlSQyd"
      },
      "execution_count": null,
      "outputs": []
    },
    {
      "cell_type": "code",
      "source": [
        "data.dtypes"
      ],
      "metadata": {
        "id": "2lW7fGk3SQ3E"
      },
      "execution_count": null,
      "outputs": []
    },
    {
      "cell_type": "code",
      "source": [
        "STATION CODE                        object\n",
        "LOCATIONS                           object\n",
        "STATE                               object\n",
        "Temp                                object\n",
        "D.O. (mg/l)                         object\n",
        "PH                                  object\n",
        "CONDUCTIVITY (µmhos/cm)             object\n",
        "B.O.D. (mg/l)                       object\n",
        "NITRATENAN N+ NITRITENANN (mg/l)    object\n",
        "FECAL COLIFORM (MPN/100ml)          object\n",
        "TOTAL COLIFORM (MPN/100ml)Mean      object\n",
        "year                                 int64\n",
        "dtype: object"
      ],
      "metadata": {
        "id": "w_9WNHhHStyY"
      },
      "execution_count": null,
      "outputs": []
    },
    {
      "cell_type": "code",
      "source": [
        "data['Temp']=pd.to_numeric(data['Temp'],errors='coerce')\n",
        "data['D.O. (mg/l)']=pd.to_numeric(data['D.O. (mg/l)'],errors='coerce')\n",
        "data['PH']=pd.to_numeric(data['PH'],errors='coerce')\n",
        "data['B.O.D. (mg/l)']=pd.to_numeric(data['B.O.D. (mg/l)'],errors='coerce')\n",
        "data['CONDUCTIVITY (µmhos/cm)']=pd.to_numeric(data['CONDUCTIVITY (µmhos/cm)'],errors='coerce')\n",
        "data['NITRATENAN N+ NITRITENANN (mg/l)']=pd.to_numeric(data['NITRATENAN N+ NITRITENANN (mg/l)'],errors='coerce')\n",
        "data['TOTAL COLIFORM (MPN/100ml)Mean']=pd.to_numeric(data['TOTAL COLIFORM (MPN/100ml)Mean'],errors='coerce')\n",
        "data.dtypes"
      ],
      "metadata": {
        "id": "SSq5FicOSt-O"
      },
      "execution_count": null,
      "outputs": []
    },
    {
      "cell_type": "code",
      "source": [
        "STATION CODE                         object\n",
        "LOCATIONS                            object\n",
        "STATE                                object\n",
        "Temp                                float64\n",
        "D.O. (mg/l)                         float64\n",
        "PH                                  float64\n",
        "CONDUCTIVITY (µmhos/cm)             float64\n",
        "B.O.D. (mg/l)                       float64\n",
        "NITRATENAN N+ NITRITENANN (mg/l)    float64\n",
        "FECAL COLIFORM (MPN/100ml)           object\n",
        "TOTAL COLIFORM (MPN/100ml)Mean      float64\n",
        "year                                  int64\n",
        "dtype: object"
      ],
      "metadata": {
        "id": "O3MDA_hpS0_r"
      },
      "execution_count": null,
      "outputs": []
    },
    {
      "cell_type": "code",
      "source": [
        "data.isnull().sum()"
      ],
      "metadata": {
        "id": "vqMvuePIS1GF"
      },
      "execution_count": null,
      "outputs": []
    },
    {
      "cell_type": "code",
      "source": [
        "STATION CODE                          0\n",
        "LOCATIONS                             0\n",
        "STATE                                 0\n",
        "Temp                                 92\n",
        "D.O. (mg/l)                          31\n",
        "PH                                    8\n",
        "CONDUCTIVITY (µmhos/cm)              25\n",
        "B.O.D. (mg/l)                        43\n",
        "NITRATENAN N+ NITRITENANN (mg/l)    225\n",
        "FECAL COLIFORM (MPN/100ml)            0\n",
        "TOTAL COLIFORM (MPN/100ml)Mean      132\n",
        "year                                  0\n",
        "dtype: int64"
      ],
      "metadata": {
        "id": "4RHBmCu6S9Y-"
      },
      "execution_count": null,
      "outputs": []
    },
    {
      "cell_type": "code",
      "source": [
        "data['Temp'].fillna(data['Temp'].mean(),inplace=True)\n",
        "data['D.O. (mg/l)'].fillna(data['D.O. (mg/l)'].mean(),inplace=True)\n",
        "data['PH'].fillna(data['PH'].mean(),inplace=True)\n",
        "data['CONDUCTIVITY (µmhos/cm)'].fillna(data['CONDUCTIVITY (µmhos/cm)'].mean(),inplace=True)\n",
        "data['B.O.D. (mg/l)'].fillna(data['B.O.D. (mg/l)'].mean(),inplace=True)\n",
        "data['NITRATENAN N+ NITRITENANN (mg/l)'].fillna(data['NITRATENAN N+ NITRITENANN (mg/l)'].mean(),inplace=True)\n",
        "data['TOTAL COLIFORM (MPN/100ml)Mean'].fillna(data['TOTAL COLIFORM (MPN/100ml)Mean'].mean(),inplace=True)\n",
        "data.drop([\"FECAL COLIFORM (MPN/100ml)\"],axis=1,inplace=True)"
      ],
      "metadata": {
        "id": "RBcx3Sg4S9lB"
      },
      "execution_count": null,
      "outputs": []
    },
    {
      "cell_type": "code",
      "source": [
        "data=data.rename(columns = {'D.O. (mg/l)': 'do'})\n",
        "data=data.rename(columns = {'CONDUCTIVITY (µmhos/cm)': 'co'})\n",
        "data=data.rename(columns = {'B.O.D. (mg/l)': 'bod'})\n",
        "data=data.rename(columns = {'NITRATENAN N+ NITRITENANN (mg/l)': 'na'})\n",
        "data=data.rename(columns = {'TOTAL COLIFORM (MPN/100ml)Mean': 'tc'})\n",
        "data=data.rename(columns = {'STATION CODE': 'station'})\n",
        "data=data.rename(columns = {'LOCATIONS': 'location'})\n",
        "data=data.rename(columns = {'STATE': 'state'})\n",
        "data=data.rename(columns = {'PH': 'ph'})"
      ],
      "metadata": {
        "id": "bwW6ulX-TFB-"
      },
      "execution_count": null,
      "outputs": []
    },
    {
      "cell_type": "markdown",
      "source": [
        "Water Quality Index (WQI) Calculation"
      ],
      "metadata": {
        "id": "UqcOySfUTLgm"
      }
    },
    {
      "cell_type": "code",
      "source": [
        "#calculation of pH\n",
        "data['npH']=data.ph.apply(lambda x: (100 if(8.5>=x>=7)\n",
        "                                else(80 if(8.6>=x>=8.5) or (6.9>=x>=6.8)\n",
        "                                  else (60 if(8.8>=x>=8.6) or (6.8>=x>=6.7)\n",
        "                                      else(40 if(9>=x>=8.8) or (6.7>=x>=6.5)\n",
        "                                          else 0)))))"
      ],
      "metadata": {
        "id": "_U4wdQ4OTOF3"
      },
      "execution_count": null,
      "outputs": []
    },
    {
      "cell_type": "code",
      "source": [
        "#calculation of dissolved oxygen\n",
        "data['ndo']=data.do.apply(lambda x: (100 if(x>=6)\n",
        "                                else(80 if(6>=x>=5.1)\n",
        "                                  else (60 if(5>=x>=4.1)\n",
        "                                      else(40 if(4>=x>=3)\n",
        "                                          else 0)))))"
      ],
      "metadata": {
        "id": "wMpHMafjTOLo"
      },
      "execution_count": null,
      "outputs": []
    },
    {
      "cell_type": "code",
      "source": [
        "#calculation of total coliform\n",
        "data['nco']=data.tc.apply(lambda x: (100 if(5>=x>=0)\n",
        "                                else(80 if(50>=x>=5)\n",
        "                                  else (60 if(500>=x>=50)\n",
        "                                      else(40 if(10000>=x>=500)\n",
        "                                          else 0)))))"
      ],
      "metadata": {
        "id": "Q-Ib4eXJTORS"
      },
      "execution_count": null,
      "outputs": []
    },
    {
      "cell_type": "code",
      "source": [
        "#calculation of B.D.O\n",
        "data['nbdo']=data.bod.apply(lambda x:(100 if(3>=x>=0)\n",
        "                                else(80 if(6>=x>=3)\n",
        "                                  else (60 if(80>=x>=6)\n",
        "                                      else(40 if(125>=x>=80)\n",
        "                                          else 0)))))"
      ],
      "metadata": {
        "id": "PKbmJxdITVb3"
      },
      "execution_count": null,
      "outputs": []
    },
    {
      "cell_type": "code",
      "source": [
        "#calculation of electric conductivity\n",
        "data['nec']=data.co.apply(lambda x:(100 if(75>=x>=0)\n",
        "                                else(80 if(150>=x>=75)\n",
        "                                  else (60 if(225>=x>=150)\n",
        "                                      else(40 if(300>=x>=225)\n",
        "                                          else 0)))))"
      ],
      "metadata": {
        "id": "ifsOUqK5TVoN"
      },
      "execution_count": null,
      "outputs": []
    },
    {
      "cell_type": "code",
      "source": [
        "#calculation of nitrate\n",
        "data['nna']=data.na.apply(lambda x:(100 if(20>=x>=0)\n",
        "                                else(80 if(50>=x>=20)\n",
        "                                  else (60 if(100>=x>=50)\n",
        "                                      else(40 if(200>=x>=100)\n",
        "                                          else 0)))))"
      ],
      "metadata": {
        "id": "J6kIxayITVt4"
      },
      "execution_count": null,
      "outputs": []
    },
    {
      "cell_type": "code",
      "source": [
        "#Calculation of Water Quality Index WQI\n",
        "data['wph']=data.npH*0.165\n",
        "data['wdo']=data.ndo*0.281\n",
        "data['wbdo']=data.nbdo*0.234\n",
        "data['wec']=data.nec*0.009\n",
        "data['wna']=data.nna*0.028\n",
        "data['wco']=data.nco*0.281\n",
        "data['wqi']=data.wph+data.wdo+data.wbdo+data.wec+data.wna+data.wco\n",
        "data"
      ],
      "metadata": {
        "id": "P6nrTCYyTmMf"
      },
      "execution_count": null,
      "outputs": []
    },
    {
      "cell_type": "code",
      "source": [
        "\tstation\tlocation\tstate\tTemp\tdo\tph\tco\tbod\tna\ttc\t...\tnbdo\tnec\tnna\twph\twdo\twbdo\twec\twna\twco\twqi\n",
        "0\t1393\tDAMANGANGA AT D/S OF MADHUBAN, DAMAN\tDAMAN & DIU\t30.600000\t6.7\t7.5\t203.0\t6.940049\t0.100000\t27.0\t...\t60\t60\t100\t16.5\t28.10\t14.04\t0.54\t2.8\t22.48\t84.46\n",
        "1\t1399\tZUARI AT D/S OF PT. WHERE KUMBARJRIA CANAL JOI...\tGOA\t29.800000\t5.7\t7.2\t189.0\t2.000000\t0.200000\t8391.0\t...\t100\t60\t100\t16.5\t22.48\t23.40\t0.54\t2.8\t11.24\t76.96\n",
        "2\t1475\tZUARI AT PANCHAWADI\tGOA\t29.500000\t6.3\t6.9\t179.0\t1.700000\t0.100000\t5330.0\t...\t100\t60\t100\t13.2\t28.10\t23.40\t0.54\t2.8\t11.24\t79.28\n",
        "3\t3181\tRIVER ZUARI AT BORIM BRIDGE\tGOA\t29.700000\t5.8\t6.9\t64.0\t3.800000\t0.500000\t8443.0\t...\t80\t100\t100\t13.2\t22.48\t18.72\t0.90\t2.8\t11.24\t69.34\n",
        "4\t3182\tRIVER ZUARI AT MARCAIM JETTY\tGOA\t29.500000\t5.8\t7.3\t83.0\t1.900000\t0.400000\t5500.0\t...\t100\t80\t100\t16.5\t22.48\t23.40\t0.72\t2.8\t11.24\t77.14\n",
        "...\t...\t...\t...\t...\t...\t...\t...\t...\t...\t...\t...\t...\t...\t...\t...\t...\t...\t...\t...\t...\t...\n",
        "1986\t1330\tTAMBIRAPARANI AT ARUMUGANERI, TAMILNADU\tNAN\t26.209814\t7.9\t738.0\t7.2\t2.700000\t0.518000\t202.0\t...\t100\t100\t100\t0.0\t28.10\t23.40\t0.90\t2.8\t16.86\t72.06\n",
        "1987\t1450\tPALAR AT VANIYAMBADI WATER SUPPLY HEAD WORK, T...\tNAN\t29.000000\t7.5\t585.0\t6.3\t2.600000\t0.155000\t315.0\t...\t100\t100\t100\t0.0\t28.10\t23.40\t0.90\t2.8\t16.86\t72.06\n",
        "1988\t1403\tGUMTI AT U/S SOUTH TRIPURA,TRIPURA\tNAN\t28.000000\t7.6\t98.0\t6.2\t1.200000\t1.623079\t570.0\t...\t100\t100\t100\t0.0\t28.10\t23.40\t0.90\t2.8\t11.24\t66.44\n",
        "1989\t1404\tGUMTI AT D/S SOUTH TRIPURA, TRIPURA\tNAN\t28.000000\t7.7\t91.0\t6.5\t1.300000\t1.623079\t562.0\t...\t100\t100\t100\t0.0\t28.10\t23.40\t0.90\t2.8\t11.24\t66.44\n",
        "1990\t1726\tCHANDRAPUR, AGARTALA D/S OF HAORA RIVER, TRIPURA\tNAN\t29.000000\t7.6\t110.0\t5.7\t1.100000\t1.623079\t546.0\t...\t100\t100\t100\t0.0\t28.10\t23.40\t0.90\t2.8\t11.24\t66.44\n",
        "1991 rows × 24 columns"
      ],
      "metadata": {
        "id": "9_03Q2oaTuK1"
      },
      "execution_count": null,
      "outputs": []
    },
    {
      "cell_type": "code",
      "source": [
        "#Calculation of overall WQI for each year\n",
        "average = data.groupby('year')['wqi'].mean()\n",
        "average.head()"
      ],
      "metadata": {
        "id": "tUkdD5i1T2VC"
      },
      "execution_count": null,
      "outputs": []
    },
    {
      "cell_type": "code",
      "source": [
        "year\n",
        "2003    66.239545\n",
        "2004    61.290000\n",
        "2005    73.762689\n",
        "2006    72.909714\n",
        "2007    74.233000\n",
        "Name: wqi, dtype: float64"
      ],
      "metadata": {
        "id": "9Yv1mdGOUIIQ"
      },
      "execution_count": null,
      "outputs": []
    },
    {
      "cell_type": "markdown",
      "source": [
        "Splitting Dependent and Independent Columns"
      ],
      "metadata": {
        "id": "dM8kIgLzUKw1"
      }
    },
    {
      "cell_type": "code",
      "source": [
        "data.head()\n",
        "data.drop(['location','station','state'],axis =1,inplace=True)\n",
        "data.head()"
      ],
      "metadata": {
        "id": "vHuGFkrBUQQ5"
      },
      "execution_count": null,
      "outputs": []
    },
    {
      "cell_type": "code",
      "source": [
        "Temp\tdo\tph\tco\tbod\tna\ttc\tyear\tnpH\tndo\t...\tnbdo\tnec\tnna\twph\twdo\twbdo\twec\twna\twco\twqi\n",
        "0\t30.6\t6.7\t7.5\t203.0\t6.940049\t0.1\t27.0\t2014\t100\t100\t...\t60\t60\t100\t16.5\t28.10\t14.04\t0.54\t2.8\t22.48\t84.46\n",
        "1\t29.8\t5.7\t7.2\t189.0\t2.000000\t0.2\t8391.0\t2014\t100\t80\t...\t100\t60\t100\t16.5\t22.48\t23.40\t0.54\t2.8\t11.24\t76.96\n",
        "2\t29.5\t6.3\t6.9\t179.0\t1.700000\t0.1\t5330.0\t2014\t80\t100\t...\t100\t60\t100\t13.2\t28.10\t23.40\t0.54\t2.8\t11.24\t79.28\n",
        "3\t29.7\t5.8\t6.9\t64.0\t3.800000\t0.5\t8443.0\t2014\t80\t80\t...\t80\t100\t100\t13.2\t22.48\t18.72\t0.90\t2.8\t11.24\t69.34\n",
        "4\t29.5\t5.8\t7.3\t83.0\t1.900000\t0.4\t5500.0\t2014\t100\t80\t...\t100\t80\t100\t16.5\t22.48\t23.40\t0.72\t2.8\t11.24\t77.14\n",
        "5 rows × 21 columns"
      ],
      "metadata": {
        "id": "snkbOpyHUVD-"
      },
      "execution_count": null,
      "outputs": []
    },
    {
      "cell_type": "code",
      "source": [
        "x=data.iloc[:,0:7].values\n",
        "x.shape"
      ],
      "metadata": {
        "id": "lOdsnNJmUZxv"
      },
      "execution_count": null,
      "outputs": []
    },
    {
      "cell_type": "code",
      "source": [
        "(1991, 7)"
      ],
      "metadata": {
        "id": "HogB-pOjUZ4i"
      },
      "execution_count": null,
      "outputs": []
    },
    {
      "cell_type": "code",
      "source": [
        "y=data.iloc[:,-1:].values\n",
        "y.shape"
      ],
      "metadata": {
        "id": "Ue2g3LdvUZ8z"
      },
      "execution_count": null,
      "outputs": []
    },
    {
      "cell_type": "code",
      "source": [
        "(1991, 1)"
      ],
      "metadata": {
        "id": "rJ2M_96VUu3R"
      },
      "execution_count": null,
      "outputs": []
    },
    {
      "cell_type": "code",
      "source": [
        "print(x)"
      ],
      "metadata": {
        "id": "a_DUCkfpUu71"
      },
      "execution_count": null,
      "outputs": []
    },
    {
      "cell_type": "code",
      "source": [
        "[[3.06000000e+01 6.70000000e+00 7.50000000e+00 ... 6.94004877e+00\n",
        "  1.00000000e-01 2.70000000e+01]\n",
        " [2.98000000e+01 5.70000000e+00 7.20000000e+00 ... 2.00000000e+00\n",
        "  2.00000000e-01 8.39100000e+03]\n",
        " [2.95000000e+01 6.30000000e+00 6.90000000e+00 ... 1.70000000e+00\n",
        "  1.00000000e-01 5.33000000e+03]\n",
        " ...\n",
        " [2.80000000e+01 7.60000000e+00 9.80000000e+01 ... 1.20000000e+00\n",
        "  1.62307871e+00 5.70000000e+02]\n",
        " [2.80000000e+01 7.70000000e+00 9.10000000e+01 ... 1.30000000e+00\n",
        "  1.62307871e+00 5.62000000e+02]\n",
        " [2.90000000e+01 7.60000000e+00 1.10000000e+02 ... 1.10000000e+00\n",
        "  1.62307871e+00 5.46000000e+02]]\n"
      ],
      "metadata": {
        "id": "q9awxhiXUvAa"
      },
      "execution_count": null,
      "outputs": []
    },
    {
      "cell_type": "code",
      "source": [
        "print(y)"
      ],
      "metadata": {
        "id": "ocCzgAVhUvFD"
      },
      "execution_count": null,
      "outputs": []
    },
    {
      "cell_type": "code",
      "source": [
        "[[84.46]\n",
        " [76.96]\n",
        " [79.28]\n",
        " ...\n",
        " [66.44]\n",
        " [66.44]\n",
        " [66.44]]"
      ],
      "metadata": {
        "id": "keFpyAw7U6va"
      },
      "execution_count": null,
      "outputs": []
    },
    {
      "cell_type": "markdown",
      "source": [
        "Splitting the Data Into Train and Test"
      ],
      "metadata": {
        "id": "aG-hpXdaVA56"
      }
    },
    {
      "cell_type": "code",
      "source": [
        "from sklearn.model_selection import train_test_split\n",
        "x_train,x_test,y_train,y_test = train_test_split(x,y,test_size = 0.2,random_state=10)"
      ],
      "metadata": {
        "id": "cOPii32sU6zq"
      },
      "execution_count": null,
      "outputs": []
    }
  ]
}